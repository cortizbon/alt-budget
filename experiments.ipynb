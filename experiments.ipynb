{
 "cells": [
  {
   "cell_type": "code",
   "execution_count": 4,
   "metadata": {},
   "outputs": [],
   "source": [
    "import pandas as pd\n",
    "import plotly.graph_objects as go\n",
    "from plotly.subplots import make_subplots"
   ]
  },
  {
   "cell_type": "code",
   "execution_count": 2,
   "metadata": {},
   "outputs": [
    {
     "ename": "NameError",
     "evalue": "name 'pd' is not defined",
     "output_type": "error",
     "traceback": [
      "\u001b[0;31m---------------------------------------------------------------------------\u001b[0m",
      "\u001b[0;31mNameError\u001b[0m                                 Traceback (most recent call last)",
      "Cell \u001b[0;32mIn[2], line 1\u001b[0m\n\u001b[0;32m----> 1\u001b[0m df2 \u001b[38;5;241m=\u001b[39m \u001b[43mpd\u001b[49m\u001b[38;5;241m.\u001b[39mread_csv(\u001b[38;5;124m'\u001b[39m\u001b[38;5;124mdataset_192425.csv\u001b[39m\u001b[38;5;124m'\u001b[39m)\n",
      "\u001b[0;31mNameError\u001b[0m: name 'pd' is not defined"
     ]
    }
   ],
   "source": [
    "df2 = pd.read_csv('dataset_192425.csv')"
   ]
  },
  {
   "cell_type": "code",
   "execution_count": 4,
   "metadata": {},
   "outputs": [],
   "source": [
    "def create_dataframe_sankey(data, value_column, *columns, **filtros):\n",
    "    for col in columns:\n",
    "        if col not in data.columns:\n",
    "            raise ValueError\n",
    "    \n",
    "    groupbys = []\n",
    "    for idx, col in enumerate(columns[:-1]):\n",
    "        i = data.groupby([columns[idx], columns[idx + 1]])[value_column].sum().reset_index()\n",
    "        i.columns = ['source', 'target', 'value']\n",
    "        groupbys.append(i)\n",
    "\n",
    "    conc = pd.concat(groupbys, ignore_index=True)\n",
    "\n",
    "    for key, values in filtros.items():\n",
    "        for value in values:\n",
    "            conc = conc[conc[key] != value]\n",
    "\n",
    "    info = enumerate(list(set(conc['source'].unique().tolist() + conc['target'].unique().tolist())))\n",
    "\n",
    "    dic_info = dict(info)\n",
    "\n",
    "    rev_info = {}\n",
    "    for key, value in dic_info.items():\n",
    "        rev_info[value] = key\n",
    "\n",
    "    conc['source'] = conc['source'].map(rev_info)\n",
    "    conc['target'] = conc['target'].map(rev_info)\n",
    "\n",
    "\n",
    "\n",
    "    return rev_info, conc"
   ]
  },
  {
   "cell_type": "code",
   "execution_count": 9,
   "metadata": {},
   "outputs": [
    {
     "data": {
      "text/plain": [
       "Index(['Cuenta', 'Subcuenta', 'Objeto/proyecto', 'Subproyecto',\n",
       "       'Apropiación en precios corrientes', 'Código de entidad',\n",
       "       'Tipo de gasto', 'Entidad', 'Código de sector', 'Sector', 'Año',\n",
       "       'Apropiación en precios constantes (2025)'],\n",
       "      dtype='object')"
      ]
     },
     "execution_count": 9,
     "metadata": {},
     "output_type": "execute_result"
    }
   ],
   "source": [
    "df2.columns"
   ]
  },
  {
   "cell_type": "code",
   "execution_count": 10,
   "metadata": {},
   "outputs": [
    {
     "data": {
      "text/plain": [
       "({'Corporación autónoma regional del cauca (crc)': 0,\n",
       "  'Fortalecimiento de la gestión y dirección del sector fiscalía': 1,\n",
       "  'Fortalecimiento de la gestión y dirección del sector educación': 2,\n",
       "  'Unidad administrativa especial del servicio público de empleo': 3,\n",
       "  'Fortalecimiento de la gestión y dirección del sector ciencia y tecnología': 4,\n",
       "  'Fortalecimiento de la gestión y dirección del sector transporte': 5,\n",
       "  'Instituto nacional de formación técnica profesional de san juan del cesar': 6,\n",
       "  'Promoción de los métodos de resolución de conflictos': 7,\n",
       "  'Fortalecimiento de la gestión y dirección del sector comunicaciones': 8,\n",
       "  'Escuela superior de administración pública (esap)': 9,\n",
       "  'A productores de mercado que distribuyen directamente a los hogares': 10,\n",
       "  'Fortalecimiento de la infraestructura física de las entidades del estado del nivel nacional desde el sector presidencia': 11,\n",
       "  'Fortalecimiento de la gestión y dirección del sector empleo público': 12,\n",
       "  'Instituto nacional de medicina legal y ciencias forenses': 13,\n",
       "  'Adquisición de bienes  y servicios': 14,\n",
       "  'Unidad administrativa especial junta central contadores': 15,\n",
       "  'Unidad administrativa especial dirección de impuestos y aduanas nacionales': 16,\n",
       "  'Fortalecimiento de la gestión y dirección del sector comercio, industria y turismo': 17,\n",
       "  'Acceso al servicio público domiciliario de gas combustible': 18,\n",
       "  'Fortalecimiento de la gestión y dirección del sector defensa y seguridad': 19,\n",
       "  'Impuestos': 20,\n",
       "  'Entes autónomos universitarios estatales - universidades públicas': 21,\n",
       "  'Superintendencia de industria y comercio': 22,\n",
       "  'Corporación para el desarrollo sostenible del archipiélago de san andrés, providencia y santa catalina (coralina)': 23,\n",
       "  'Fondo pasivo social de ferrocarriles nacionales de colombia': 24,\n",
       "  'Consolidación productiva del sector de energía eléctrica': 25,\n",
       "  'Capacidades de las fuerzas militares en seguridad pública y defensa en el territorio nacional': 26,\n",
       "  'Fondo adaptación': 27,\n",
       "  'Corporación autónoma regional del quindío (crq)': 28,\n",
       "  'Fondo rotatorio del dane': 29,\n",
       "  'Ordenamiento social y uso productivo del territorio rural': 30,\n",
       "  'Unidad administrativa especial de la justicia penal militar y policial': 31,\n",
       "  'Policía nacional': 32,\n",
       "  'Instituto caro y cuervo': 33,\n",
       "  'Fortalecimiento de la gestión y dirección del sector registraduría': 34,\n",
       "  'Personal supernumerario y planta temporal': 35,\n",
       "  'Instituto técnico nacional de comercio \"simón rodríguez\" de cali': 36,\n",
       "  'Intersubsectorial defensa y seguridad': 37,\n",
       "  'Ambiente regulatorio y económico para la competencia y la actividad empresarial': 38,\n",
       "  'Estampillas': 39,\n",
       "  'Comisiones y otros gastos': 40,\n",
       "  'Agencia nacional del espectro - ane': 41,\n",
       "  'Adquisición de otras participaciones de capital': 42,\n",
       "  'Fortalecimiento de la gestión y dirección del sector salud y protección social': 43,\n",
       "  'Defensa jurídica del estado': 44,\n",
       "  'Agencia de renovación del territorio - art': 45,\n",
       "  'Prevención y mitigación del riesgo de desastres desde el sector presidencia': 46,\n",
       "  'Ministerio de salud y protección social': 47,\n",
       "  'Internacionalización de la economía': 48,\n",
       "  'Fortalecimiento de la gestión y dirección del sector minas y energía': 49,\n",
       "  'Corporación autónoma regional de la guajira (corpoguajira)': 50,\n",
       "  'Instituto casas fiscales del ejército': 51,\n",
       "  'Mejoramiento de la habitabilidad rural': 52,\n",
       "  'Inspección, vigilancia y control': 53,\n",
       "  'Productividad y competitividad de las empresas colombianas': 54,\n",
       "  'Instituto nacional para ciegos (inci)': 55,\n",
       "  'Comisión de regulación de infraestructura y transporte': 56,\n",
       "  'Fortalecimiento de la gestión y dirección del sector interior': 57,\n",
       "  'Seguridad de transporte': 58,\n",
       "  'A instituciones sin ánimo de lucro que sirven a los hogares': 59,\n",
       "  'Fortalecimiento de las capacidades de articulación estratégica, modernización, eficiencia administrativa, transparencia y acceso a la información desde el sector presidencia': 60,\n",
       "  'Unidad administrativa especial de la aeronáutica civil': 61,\n",
       "  'Unidad de búsqueda de personas dadas por desaparecidas en el contexto y en razón del conflicto armado (ubpd)': 62,\n",
       "  'Ministerio de hacienda y crédito público': 63,\n",
       "  'Investigación con calidad e impacto': 64,\n",
       "  'Unidad administrativa especial de alimentación escolar': 65,\n",
       "  'Corporación autónoma regional del alto magdalena (cam)': 66,\n",
       "  'Efectividad de la investigación penal y técnico científica': 67,\n",
       "  'Fortalecimiento de la gobernanza e institucionalidad multinivel del sector de ctei': 68,\n",
       "  'Instituto de planificación y promoción de soluciones energéticas para las zonas no interconectadas - ipse': 69,\n",
       "  'Instituto colombiano de antropología e historia': 70,\n",
       "  'Inspección, control y vigilancia financiera, solidaria y de recursos públicos': 71,\n",
       "  'Agencia nacional de tierras - ant': 72,\n",
       "  'Fortalecimiento de la gestión y dirección del sector relaciones exteriores': 73,\n",
       "  'Unidad administrativa especial - agencia nacional de contratación pública - colombia compra eficiente': 74,\n",
       "  'Mejoramiento de la calidad educativa en gestión pública': 75,\n",
       "  'Superintendencia nacional de salud': 76,\n",
       "  'Intersubsectorial salud': 77,\n",
       "  'Cierre de brechas para el goce efectivo de derechos fundamentales de la población en condición de discapacidad': 78,\n",
       "  'Ministerio de las culturas, las artes y los saberes': 79,\n",
       "  'Desarrollo marítimo, fluvial y costero desde el sector defensa': 80,\n",
       "  'Atención, asistencia  y reparación integral a las víctimas': 81,\n",
       "  'Formación para el trabajo': 82,\n",
       "  'Relaciones exteriores': 83,\n",
       "  'Calidad y fomento de la educación superior': 84,\n",
       "  'Inclusión social y productiva para la población en situación de vulnerabilidad': 85,\n",
       "  'Fortalecimiento de la gestión y dirección del sector sistema integral de verdad , justicia, reparación y no repetición': 86,\n",
       "  'Infraestructura y servicios de transporte aéreo': 87,\n",
       "  'Corporación para el desarrollo sostenible del área de manejo especial la macarena (cormacarena)': 88,\n",
       "  'Justicia transicional': 89,\n",
       "  'Acceso de la población a los servicios de agua potable y saneamiento básico': 90,\n",
       "  'Infraestructura de transporte marítimo': 91,\n",
       "  'Computadores para educar (cpe)': 92,\n",
       "  'Fortalecimiento de la gestión y dirección del sector trabajo': 93,\n",
       "  'Departamento administrativo nacional de planeación': 94,\n",
       "  'Reducción de la vulnerabilidad fiscal ante desastres y riesgos climáticos': 95,\n",
       "  'Departamento administrativo dirección nacional de inteligencia': 96,\n",
       "  'Fortalecimiento de la gestión y dirección del sector congreso de la república': 97,\n",
       "  'Contribuciones': 98,\n",
       "  'Corporación autónoma regional del centro de antioquia (corantioquia)': 99,\n",
       "  'Instituto colombiano de bienestar familiar (icbf)': 100,\n",
       "  'Servicio de la deuda pública nacional': 101,\n",
       "  'Corporación para el desarrollo sostenible del urabá (corpourabá)': 102,\n",
       "  'Intersubsectorial justicia': 103,\n",
       "  'Unidad administrativa especial contaduría general de la nación': 104,\n",
       "  'Unidad administrativa especial de gestión de restitución de tierras despojadas': 105,\n",
       "  'Unidad administrativa especial de organizaciones solidarias': 106,\n",
       "  'Aseguramiento y prestación integral de servicios de salud': 107,\n",
       "  'Facilitar el acceso y uso de las tecnologías de la información y las comunicaciones (tic) en todo el territorio nacional': 108,\n",
       "  'Fiscalía general de la nación': 109,\n",
       "  'Fortalecimiento de la gestión y dirección del sector justicia y del derecho': 110,\n",
       "  'Corporación autónoma regional de la frontera nororiental (corponor)': 111,\n",
       "  'Derechos fundamentales del trabajo y fortalecimiento del diálogo social': 112,\n",
       "  'Instituto nacional para sordos (insor)': 113,\n",
       "  'Superintendencia de vigilancia y seguridad privada': 114,\n",
       "  'Promoción, protección y defensa de los derechos humanos y el derecho internacional humanitario': 115,\n",
       "  'Gestión del riesgo de desastres naturales y antrópicos en la zona de influencia del volcán nevado del huila': 116,\n",
       "  'Fomento a la recreación, la actividad física y el deporte para desarrollar entornos de convivencia y paz': 117,\n",
       "  'Presidencia de la república': 118,\n",
       "  'Unidad de planeación minero energética - upme': 119,\n",
       "  'Superintendencia de servicios públicos domiciliarios': 120,\n",
       "  'Participación ciudadana, política y diversidad de creencias': 121,\n",
       "  'Infraestructura red vial primaria': 122,\n",
       "  'Corporación autónoma regional del cesar (corpocesar)': 123,\n",
       "  'Agencia presidencial de cooperación internacional de colombia, apc - colombia': 124,\n",
       "  'Ministerio de igualdad y equidad': 125,\n",
       "  'Intersubsectorial vivienda y desarrollo territorial': 126,\n",
       "  'Fortalecimiento de la gestión y dirección del sector organismos de control': 127,\n",
       "  'Fomento a vocaciones y formación, generación, uso y apropiación social del conocimiento de la ciencia, tecnología e innovación': 128,\n",
       "  'Corporación autónoma regional de chivor (corpochivor)': 129,\n",
       "  'Agencia nacional de infraestructura': 130,\n",
       "  'Unidad administrativa especial de gestión pensional y contribuciones parafiscales de la protección social (ugppp)': 131,\n",
       "  'Capacidades de la policía nacional en seguridad pública, prevención, convivencia y seguridad ciudadana': 132,\n",
       "  'Fomento de la investigación, desarrollo tecnológico e innovación del sector trabajo': 133,\n",
       "  'Becas y otros beneficios de educación': 134,\n",
       "  'Cierre de brechas de desigualdad e inequidad para el goce efectivo de derechos fundamentales de los sujetos de especial protección constitucional': 135,\n",
       "  'Consolidación productiva del sector minero': 136,\n",
       "  'Reintegración de personas y grupos alzados en armas desde el sector presidencia': 137,\n",
       "  'Gastos de personal': 138,\n",
       "  'Infraestructura productiva y comercialización': 139,\n",
       "  'Caja de sueldos de retiro de la policía nacional': 140,\n",
       "  'Grupo social y empresarial de la defensa (gsed) competitivo': 141,\n",
       "  'Hospital militar': 142,\n",
       "  'Servicio geológico colombiano': 143,\n",
       "  'Fortalecimiento de la gestión y dirección del sector cultura': 144,\n",
       "  'Unidad de atención y reparación integral a las víctimas': 145,\n",
       "  'Fortalecimiento institucional a los procesos organizativos de concertación; garantía, prevención y respeto de los derechos humanos como fundamentos para la paz': 146,\n",
       "  'Registraduría nacional del estado civil': 147,\n",
       "  'Corporación autónoma regional del tolima (cortolima)': 148,\n",
       "  'Consolidación productiva del sector hidrocarburos': 149,\n",
       "  'Fomento del desarrollo de aplicaciones, software y contenidos para impulsar la apropiación de las tecnologías de la información y las comunicaciones': 150,\n",
       "  'Sistema penitenciario y carcelario en el marco de los derechos humanos': 151,\n",
       "  'Agencia nacional de seguridad vial': 152,\n",
       "  'Ministerio de justicia y del derecho': 153,\n",
       "  'Unidad de información y análisis financiero': 154,\n",
       "  'Fortalecimiento de la política criminal del estado colombiano': 155,\n",
       "  'Generación de bienestar para la fuerza pública y sus familias': 156,\n",
       "  'Intersubsectorial desarrollo social': 157,\n",
       "  'Arte y cultura': 158,\n",
       "  'A empresas diferentes de subvenciones': 159,\n",
       "  'A los hogares diferentes de prestaciones sociales': 160,\n",
       "  'Corporación autónoma regional de caldas (corpocaldas)': 161,\n",
       "  'Fortalecimiento de la gestión y dirección del sector inclusión social y reconciliación': 162,\n",
       "  'Ministerio de transporte': 163,\n",
       "  'Departamento administrativo nacional de estadística (dane)': 164,\n",
       "  'Funcionamiento': 165,\n",
       "  'Instituto de hidrología, meteorología y estudios ambientales - ideam': 166,\n",
       "  'Departamento administrativo de la función pública': 167,\n",
       "  'Gestión de la información y el conocimiento ambiental': 168,\n",
       "  'Superintendencia de notariado y registro': 169,\n",
       "  'Transferencias de capital': 170,\n",
       "  'Fortalecimiento de la gestión pública en las entidades nacionales y territoriales': 171,\n",
       "  'Intereses': 172,\n",
       "  'Corporación nacional para la reconstrucción de la cuenca del río páez y zonas aledañas nasa ki we': 173,\n",
       "  'Servicio de la deuda pública externa': 174,\n",
       "  'Defensa civil colombiana, guillermo león valencia': 175,\n",
       "  'Acceso a soluciones de vivienda': 176,\n",
       "  'Inclusión productiva de pequeños productores rurales': 177,\n",
       "  'Mejoramiento de la planeación territorial, sectorial y de inversión pública': 178,\n",
       "  'Regulación y supervisión de infraestructura y servicios de transporte': 179,\n",
       "  'Escuela tecnológica instituto técnico central': 180,\n",
       "  'Corporación autónoma regional de boyacá (corpoboyacá)': 181,\n",
       "  'Fondo nacional ambiental': 182,\n",
       "  'Fondo rotatorio de la policía': 183,\n",
       "  'Agencia nacional de minería - anm': 184,\n",
       "  'Gestión integral de mares, costas y recursos acuáticos': 185,\n",
       "  'Gestión de la cooperación internacional del sector presidencia': 186,\n",
       "  'Prestaciones para cubrir riesgos sociales': 187,\n",
       "  'Gastos de comercialización y producción': 188,\n",
       "  'Intersubsectorial comunicaciones': 189,\n",
       "  'Fortalecimiento del desempeño ambiental de los sectores productivos': 190,\n",
       "  'Ministerio del trabajo': 191,\n",
       "  'Fondo rotatorio del ministerio de relaciones exteriores': 192,\n",
       "  'Rama judicial': 193,\n",
       "  'Gestión del riesgo de desastres desde el sector defensa y seguridad': 194,\n",
       "  'Corporación autónoma regional de nariño (corponariño)': 195,\n",
       "  'Agencia nacional inmobiliaria virgilio barco vargas': 196,\n",
       "  'Fondo social de vivienda de la registraduría nacional del estado civil': 197,\n",
       "  'Corporación autónoma regional para la defensa de la meseta de bucaramanga (cdmb)': 198,\n",
       "  'Archivo general de la nación': 199,\n",
       "  'Transferencias corrientes': 200,\n",
       "  'Intersubsectorial ambiente': 201,\n",
       "  'Fondo especial para la administración de bienes de la fiscalía general de la nación': 202,\n",
       "  'Agencia para la reincorporación y la normalización - arn': 203,\n",
       "  'Corporación autónoma regional de sucre (carsucre)': 204,\n",
       "  'Corporación autónoma regional del atlántico (cra)': 205,\n",
       "  'Corporación autónoma regional del guavio (corpoguavio)': 206,\n",
       "  'Intersubsectorial agropecuario': 207,\n",
       "  'Corporación autónoma regional del magdalena (corpamag)': 208,\n",
       "  'Instituto nacional de vías': 209,\n",
       "  'Mecanismos de transición hacia la paz a nivel nacional y territorial desde el sector presidencia': 210,\n",
       "  'Gestión del cambio climático para un desarrollo bajo en carbono y resiliente al clima': 211,\n",
       "  'Gastos por tributos, multas, sanciones e intereses de mora': 212,\n",
       "  'Levantamiento y actualización de información estadística de calidad': 213,\n",
       "  'Fortalecimiento de la gestión y dirección del sector planeación': 214,\n",
       "  'Protección, promoción y difusión del derecho de autor y los derechos conexos': 215,\n",
       "  'Conservación de la biodiversidad y sus servicios ecosistémicos': 216,\n",
       "  'Ministerio de defensa nacional': 217,\n",
       "  'Corporación autónoma regional de la orinoquia (corporinoquia)': 218,\n",
       "  'Infraestructura de transporte fluvial': 219,\n",
       "  'Tasas y derechos administrativos': 220,\n",
       "  'Ordenamiento ambiental territorial': 221,\n",
       "  'Superintendencia financiera de colombia': 222,\n",
       "  'Fortalecimiento de la gestión y dirección del sector vivienda, ciudad y territorio': 223,\n",
       "  'Fortalecimiento institucional y operativo de los bomberos de colombia': 224,\n",
       "  'Unidad administrativa especial migración colombia': 225,\n",
       "  'Congreso de la república': 226,\n",
       "  'Agencia logística de las fuerzas militares': 227,\n",
       "  'Generación de la información geográfica del territorio nacional': 228,\n",
       "  'Fondo único de tecnologías de la información y las comunicaciones': 229,\n",
       "  'Desarrollo integral de la primera infancia a la juventud, y fortalecimiento de las capacidades de las familias de niñas, niños y adolescentes - sector igualdad y equidad': 230,\n",
       "  'Contraloría general de la república': 231,\n",
       "  'Calidad, cobertura y fortalecimiento de la educación inicial, prescolar, básica y media': 232,\n",
       "  'Renovación territorial para el desarrollo integral de las zonas rurales afectadas por el conflicto armado': 233,\n",
       "  'A gobiernos y organizaciones internacionales': 234,\n",
       "  'Desarrollo de inteligencia estratégica y contrainteligencia de estado': 235,\n",
       "  'Fondo de contingencias': 236,\n",
       "  'Agencia nacional de hidrocarburos - anh': 237,\n",
       "  'Ministerio del interior': 238,\n",
       "  'Infraestructura red vial regional': 239,\n",
       "  'A empresas diferente de subvenciones': 240,\n",
       "  'Corporación autónoma regional del canal del dique (cardique)': 241,\n",
       "  'Instituto nacional penitenciario y carcelario - inpec': 242,\n",
       "  'Fortalecimiento a la gobernabilidad territorial para la seguridad, convivencia ciudadana, paz y post-conflicto': 243,\n",
       "  'Procesos democráticos y asuntos electorales': 244,\n",
       "  'Servicio de la deuda pública interna': 245,\n",
       "  'Disminución de pasivos': 246,\n",
       "  'Prestación de servicios de transporte público de pasajeros': 247,\n",
       "  'Superintendencia de puertos y transporte': 248,\n",
       "  'Salud pública y prestación de servicios': 249,\n",
       "  'Caja de retiro de las fuerzas militares': 250,\n",
       "  'Ministerio de agricultura y desarrollo rural': 251,\n",
       "  'Unidad de planeación del sector de infraestructura de transporte': 252,\n",
       "  'Centro de memoria histórica': 253,\n",
       "  'Infraestructura y servicios de logística de transporte': 254,\n",
       "  'Dirección nacional de bomberos': 255,\n",
       "  'Intersubsectorial transporte': 256,\n",
       "  'Principal': 257,\n",
       "  'Ministerio del deporte': 258,\n",
       "  'Unidad nacional para la gestión del riesgo de desastres': 259,\n",
       "  'Fortalecimiento de la gestión y dirección del sector agropecuario': 260,\n",
       "  'Intersubsectorial minas y energía': 261,\n",
       "  'Superintendencia de la economía solidaria': 262,\n",
       "  'Generación y formalización del empleo': 263,\n",
       "  'Dirección nacional del derecho de autor': 264,\n",
       "  'Unidad nacional de protección - unp': 265,\n",
       "  'Ordenamiento territorial y desarrollo urbano': 266,\n",
       "  'Corporación para el desarrollo sostenible de la mojana y el san jorge (corpomojana)': 267,\n",
       "  'Intersubsectorial gobierno': 268,\n",
       "  'Intersubsectorial industria y comercio': 269,\n",
       "  'Política macroeconómica y fiscal': 270,\n",
       "  'Ministerio de comercio, industria y turismo': 271,\n",
       "  'Fortalecimiento del recaudo y tributación': 272,\n",
       "  'Subvenciones': 273,\n",
       "  'Búsqueda humanitaria de personas dadas por desaparecidas en el contexto y en razón del conflicto armado en colombia.': 274,\n",
       "  'Fondo de previsión social del congreso': 275,\n",
       "  'Fortalecimiento de la gestión y dirección del sector deporte y recreación': 276,\n",
       "  'A entidades del gobierno': 277,\n",
       "  'Instituto geográfico agustín codazzi - igac': 278,\n",
       "  'Agencia de desarrollo rural - adr': 279,\n",
       "  'Defensoría del pueblo': 280,\n",
       "  'Ministerio de vivienda, ciudad y territorio': 281,\n",
       "  'Club militar de oficiales': 282,\n",
       "  'Protección social': 283,\n",
       "  'Administración y vigilancia de las carreras administrativas de los servidores públicos': 284,\n",
       "  'Instituto colombiano agropecuario (ica)': 285,\n",
       "  'Recreación y deporte': 286,\n",
       "  'Unidad administrativa especial agencia nacional de defensa jurídica del estado': 287,\n",
       "  'Política migratoria y servicio al ciudadano': 288,\n",
       "  'Soberanía territorial y desarrollo fronterizo': 289,\n",
       "  'Unidad administrativa especial comisión de regulación de comunicaciones': 290,\n",
       "  'Ministerio de relaciones exteriores': 291,\n",
       "  'Deuda': 292,\n",
       "  'Planta de personal permanente': 293,\n",
       "  'Para el pago de deuda o intereses': 294,\n",
       "  'Instituto tolimense de formación técnica profesional': 295,\n",
       "  'Identificación y registro del estado civil de la población': 296,\n",
       "  'Promoción de la prestación eficiente de los servicios públicos domiciliarios': 297,\n",
       "  'Adquisición de activos financieros': 298,\n",
       "  'Multas, sanciones e intereses de mora': 299,\n",
       "  'Fortalecimiento de la gestión y dirección del sector hacienda': 300,\n",
       "  'Mejoramiento de la eficiencia y la transparencia legislativa': 301,\n",
       "  'Gestión, protección y salvaguardia del patrimonio cultural colombiano': 302,\n",
       "  'Fortalecimiento de la gestión y dirección del sector igualdad y equidad': 303,\n",
       "  'Concesión de préstamos': 304,\n",
       "  'Ministerio de ciencia, tecnología e innovación': 305,\n",
       "  'Fortalecimiento del principio de seguridad jurídica, divulgación y depuración del ordenamiento jurídico': 306,\n",
       "  'Planificación y estadística': 307,\n",
       "  'Instituto nacional de metrología - inm': 308,\n",
       "  'Ministerio de tecnologías de la información y las comunicaciones': 309,\n",
       "  'Fortalecimiento del sistema de compra pública': 310,\n",
       "  'Ministerio de educación nacional': 311,\n",
       "  'Promoción y acceso efectivo a procesos culturales y artísticos': 312,\n",
       "  'Corporación autónoma regional de risaralda (carder)': 313,\n",
       "  'Comisión nacional del servicio civil': 314,\n",
       "  'Desarrollo tecnológico e innovación para crecimiento empresarial': 315,\n",
       "  'A entidades públicas': 316,\n",
       "  'Sentencias y conciliaciones': 317,\n",
       "  'Fondo de bienestar social de la contraloría general de la república': 318,\n",
       "  'Inversión': 319,\n",
       "  'Gestión de recursos públicos': 320,\n",
       "  'Corporación para el desarrollo sostenible del sur de la amazonia (corpoamazonia)': 321,\n",
       "  'Consejo nacional electoral- cne': 322,\n",
       "  'Instituto nacional de vigilancia de medicamentos y alimentos - invima': 323,\n",
       "  'Departamento administrativo para la prosperidad social': 324,\n",
       "  'Intersubsectorial trabajo y bienestar social': 325,\n",
       "  'Modernización de la información inmobiliaria': 326,\n",
       "  'Unidad administrativa especial de gestión  pensional y contribuciones parafiscales de la protección social (ugppp)': 327,\n",
       "  'Corporación agencia nacional de gobierno digital - and': 328,\n",
       "  'Ciencia, tecnología e innovación agropecuaria': 329,\n",
       "  'Corporación autónoma regional de los valles del sinú y san jorge (cvs)': 330,\n",
       "  'Jurisdicción especial para la paz': 331,\n",
       "  'Fortalecimiento del control y la vigilancia de la gestión fiscal y resarcimiento al daño del patrimonio público': 332,\n",
       "  'Restitución de tierras a víctimas del conflicto armado': 333,\n",
       "  'Servicio nacional de aprendizaje (sena)': 334,\n",
       "  'Servicios financieros y gestión del riesgo para las actividades agropecuarias y rurales': 335,\n",
       "  'Corporación autónoma regional para el desarrollo sostenible del choco (codechoco)': 336,\n",
       "  'Impulsar el desarrollo integral de las poblaciones con enfoque diferencial desde el sector presidencia': 337,\n",
       "  'Unidad de servicios penitenciarios y carcelarios - uspec': 338,\n",
       "  'Mejoramiento de las competencias de la administracion de justicia': 339,\n",
       "  'Superintendencia de sociedades': 340,\n",
       "  'Depósito en prenda': 341,\n",
       "  'Educacion ambiental': 342,\n",
       "  'Ministerio de ambiente y desarrollo sostenible': 343,\n",
       "  'Corporación para el desarrollo sostenible del norte y oriente de la amazonia (cda)': 344,\n",
       "  'Política pública de víctimas del conflicto armado y postconflicto': 345,\n",
       "  'Gestión de la información en el sector minero energético': 346,\n",
       "  'Desarrollo ambiental sostenible del sector minero energético': 347,\n",
       "  'Cesantías': 348,\n",
       "  'Corporación autónoma regional del sur de bolivar (csb)': 349,\n",
       "  'Sanidad agropecuaria e inocuidad agroalimentaria': 350,\n",
       "  'Promoción al acceso a la justicia': 351,\n",
       "  'Instituto nacional de salud (ins)': 352,\n",
       "  'Ministerio de minas y energía': 353,\n",
       "  'Procuraduría general de la nación': 354,\n",
       "  'Devoluciones tributarias': 355,\n",
       "  'Infraestructura de transporte férreo': 356,\n",
       "  'Fortalecimiento de la gestión y dirección del sector presidencia': 357,\n",
       "  'Formación y preparación de deportistas': 358,\n",
       "  'Intersubsectorial educación': 359,\n",
       "  'Fortalecimiento de la gestión y dirección del sector información estadística': 360,\n",
       "  'Salud pública': 361,\n",
       "  'Fondo rotatorio de la registraduría': 362,\n",
       "  'Fortalecimiento de la gestión y dirección del sector ambiente y desarrollo sostenible': 363,\n",
       "  'Instituto nacional de formación técnica profesional de san andrés y providencia': 364,\n",
       "  'Auditoría general de la república': 365,\n",
       "  'Gestión integral del recurso hídrico': 366,\n",
       "  'Corporación autónoma regional de santander (cas)': 367,\n",
       "  'Autoridad nacional de acuicultura y pesca - aunap': 368,\n",
       "  'Levantamiento, actualización y administración de la información catastral': 369,\n",
       "  'Fondo nacional de vivienda - fonvivienda': 370},\n",
       "      source  target         value\n",
       " 0       279     165  1.594847e+11\n",
       " 1       279     319  1.204580e+12\n",
       " 2        45     292  7.846779e+08\n",
       " 3        45     165  1.536825e+11\n",
       " 4        45     319  1.236159e+11\n",
       " ..      ...     ...           ...\n",
       " 710     200     187  1.564789e+14\n",
       " 711     200     317  4.715222e+12\n",
       " 712     200     273  9.542337e+11\n",
       " 713     170     316  1.051928e+12\n",
       " 714     170     294  1.183099e+12\n",
       " \n",
       " [715 rows x 3 columns])"
      ]
     },
     "execution_count": 10,
     "metadata": {},
     "output_type": "execute_result"
    }
   ],
   "source": [
    "lista = ['Entidad', 'Tipo de gasto', 'Cuenta', 'Subcuenta']\n",
    "create_dataframe_sankey(df2, \n",
    "                        'Apropiación en precios constantes (2025)',\n",
    "                        *lista\n",
    "\n",
    "                        )"
   ]
  },
  {
   "cell_type": "code",
   "execution_count": 5,
   "metadata": {},
   "outputs": [],
   "source": [
    "df2 = pd.read_csv('data192425.csv')"
   ]
  },
  {
   "cell_type": "code",
   "execution_count": 6,
   "metadata": {},
   "outputs": [
    {
     "data": {
      "text/plain": [
       "Index(['Cuenta', 'Subcuenta', 'Objeto', 'Ordinal', 'TOTAL',\n",
       "       'Código de entidad', 'Tipo de gasto', 'Entidad', 'Código de sector',\n",
       "       'Sector', 'Unidad', 'Código de unidad', 'Cuenta_n', 'Subcuenta_n',\n",
       "       'Objeto_n', 'Ordinal_n', 'Año', 'Indice_base_2025', 'TOTAL_const'],\n",
       "      dtype='object')"
      ]
     },
     "execution_count": 6,
     "metadata": {},
     "output_type": "execute_result"
    }
   ],
   "source": [
    "df2.columns"
   ]
  },
  {
   "cell_type": "code",
   "execution_count": 7,
   "metadata": {},
   "outputs": [],
   "source": [
    "df2.replace({'Subcuenta': {'Prestaciones sociales': 'Prestaciones para cubrir riesgos sociales'},\n",
    "             'Cuenta':{'Transferencia de capital': 'Transferencias de capital'}}, inplace=True)"
   ]
  },
  {
   "cell_type": "markdown",
   "metadata": {},
   "source": []
  },
  {
   "cell_type": "code",
   "execution_count": 8,
   "metadata": {},
   "outputs": [],
   "source": [
    "df2.to_csv('data192425.csv', index=False)"
   ]
  },
  {
   "cell_type": "code",
   "execution_count": 1,
   "metadata": {},
   "outputs": [],
   "source": [
    "import pandas as pd\n",
    "data = pd.read_csv('data192425_hom.csv')"
   ]
  },
  {
   "cell_type": "code",
   "execution_count": 104,
   "metadata": {},
   "outputs": [
    {
     "data": {
      "application/vnd.plotly.v1+json": {
       "config": {
        "plotlyServerURL": "https://plot.ly"
       },
       "data": [
        {
         "link": {
          "color": "#D9D9ED",
          "source": [
           0,
           0,
           0,
           0,
           0,
           1,
           2
          ],
          "target": [
           3,
           4,
           5,
           6,
           7,
           7,
           7
          ],
          "value": [
           19931.06,
           14620.23,
           14544.66,
           14028.08,
           13363.85,
           12703.04,
           3609.19
          ]
         },
         "node": {
          "color": [
           "#2F399B",
           "#2F399B",
           "#2F399B",
           "#F7B261",
           "#F7B261",
           "#F7B261",
           "#F7B261",
           "#F7B261",
           "#F7B261",
           "#F7B261"
          ],
          "label": [
           "TRANSFERENCIAS CORRIENTES",
           "GASTOS DE PERSONAL",
           "Otros (cuenta)",
           "FEPC",
           "Salud",
           "SISTEMA GENERAL DE PARTICIPACIONES",
           "PRESTACIONES SOCIALES",
           "Otros (objeto)"
          ],
          "line": {
           "color": "black",
           "width": 0.5
          },
          "pad": 15,
          "thickness": 20
         },
         "type": "sankey"
        }
       ],
       "layout": {
        "font": {
         "size": 10
        },
        "template": {
         "data": {
          "bar": [
           {
            "error_x": {
             "color": "#2a3f5f"
            },
            "error_y": {
             "color": "#2a3f5f"
            },
            "marker": {
             "line": {
              "color": "#E5ECF6",
              "width": 0.5
             },
             "pattern": {
              "fillmode": "overlay",
              "size": 10,
              "solidity": 0.2
             }
            },
            "type": "bar"
           }
          ],
          "barpolar": [
           {
            "marker": {
             "line": {
              "color": "#E5ECF6",
              "width": 0.5
             },
             "pattern": {
              "fillmode": "overlay",
              "size": 10,
              "solidity": 0.2
             }
            },
            "type": "barpolar"
           }
          ],
          "carpet": [
           {
            "aaxis": {
             "endlinecolor": "#2a3f5f",
             "gridcolor": "white",
             "linecolor": "white",
             "minorgridcolor": "white",
             "startlinecolor": "#2a3f5f"
            },
            "baxis": {
             "endlinecolor": "#2a3f5f",
             "gridcolor": "white",
             "linecolor": "white",
             "minorgridcolor": "white",
             "startlinecolor": "#2a3f5f"
            },
            "type": "carpet"
           }
          ],
          "choropleth": [
           {
            "colorbar": {
             "outlinewidth": 0,
             "ticks": ""
            },
            "type": "choropleth"
           }
          ],
          "contour": [
           {
            "colorbar": {
             "outlinewidth": 0,
             "ticks": ""
            },
            "colorscale": [
             [
              0,
              "#0d0887"
             ],
             [
              0.1111111111111111,
              "#46039f"
             ],
             [
              0.2222222222222222,
              "#7201a8"
             ],
             [
              0.3333333333333333,
              "#9c179e"
             ],
             [
              0.4444444444444444,
              "#bd3786"
             ],
             [
              0.5555555555555556,
              "#d8576b"
             ],
             [
              0.6666666666666666,
              "#ed7953"
             ],
             [
              0.7777777777777778,
              "#fb9f3a"
             ],
             [
              0.8888888888888888,
              "#fdca26"
             ],
             [
              1,
              "#f0f921"
             ]
            ],
            "type": "contour"
           }
          ],
          "contourcarpet": [
           {
            "colorbar": {
             "outlinewidth": 0,
             "ticks": ""
            },
            "type": "contourcarpet"
           }
          ],
          "heatmap": [
           {
            "colorbar": {
             "outlinewidth": 0,
             "ticks": ""
            },
            "colorscale": [
             [
              0,
              "#0d0887"
             ],
             [
              0.1111111111111111,
              "#46039f"
             ],
             [
              0.2222222222222222,
              "#7201a8"
             ],
             [
              0.3333333333333333,
              "#9c179e"
             ],
             [
              0.4444444444444444,
              "#bd3786"
             ],
             [
              0.5555555555555556,
              "#d8576b"
             ],
             [
              0.6666666666666666,
              "#ed7953"
             ],
             [
              0.7777777777777778,
              "#fb9f3a"
             ],
             [
              0.8888888888888888,
              "#fdca26"
             ],
             [
              1,
              "#f0f921"
             ]
            ],
            "type": "heatmap"
           }
          ],
          "heatmapgl": [
           {
            "colorbar": {
             "outlinewidth": 0,
             "ticks": ""
            },
            "colorscale": [
             [
              0,
              "#0d0887"
             ],
             [
              0.1111111111111111,
              "#46039f"
             ],
             [
              0.2222222222222222,
              "#7201a8"
             ],
             [
              0.3333333333333333,
              "#9c179e"
             ],
             [
              0.4444444444444444,
              "#bd3786"
             ],
             [
              0.5555555555555556,
              "#d8576b"
             ],
             [
              0.6666666666666666,
              "#ed7953"
             ],
             [
              0.7777777777777778,
              "#fb9f3a"
             ],
             [
              0.8888888888888888,
              "#fdca26"
             ],
             [
              1,
              "#f0f921"
             ]
            ],
            "type": "heatmapgl"
           }
          ],
          "histogram": [
           {
            "marker": {
             "pattern": {
              "fillmode": "overlay",
              "size": 10,
              "solidity": 0.2
             }
            },
            "type": "histogram"
           }
          ],
          "histogram2d": [
           {
            "colorbar": {
             "outlinewidth": 0,
             "ticks": ""
            },
            "colorscale": [
             [
              0,
              "#0d0887"
             ],
             [
              0.1111111111111111,
              "#46039f"
             ],
             [
              0.2222222222222222,
              "#7201a8"
             ],
             [
              0.3333333333333333,
              "#9c179e"
             ],
             [
              0.4444444444444444,
              "#bd3786"
             ],
             [
              0.5555555555555556,
              "#d8576b"
             ],
             [
              0.6666666666666666,
              "#ed7953"
             ],
             [
              0.7777777777777778,
              "#fb9f3a"
             ],
             [
              0.8888888888888888,
              "#fdca26"
             ],
             [
              1,
              "#f0f921"
             ]
            ],
            "type": "histogram2d"
           }
          ],
          "histogram2dcontour": [
           {
            "colorbar": {
             "outlinewidth": 0,
             "ticks": ""
            },
            "colorscale": [
             [
              0,
              "#0d0887"
             ],
             [
              0.1111111111111111,
              "#46039f"
             ],
             [
              0.2222222222222222,
              "#7201a8"
             ],
             [
              0.3333333333333333,
              "#9c179e"
             ],
             [
              0.4444444444444444,
              "#bd3786"
             ],
             [
              0.5555555555555556,
              "#d8576b"
             ],
             [
              0.6666666666666666,
              "#ed7953"
             ],
             [
              0.7777777777777778,
              "#fb9f3a"
             ],
             [
              0.8888888888888888,
              "#fdca26"
             ],
             [
              1,
              "#f0f921"
             ]
            ],
            "type": "histogram2dcontour"
           }
          ],
          "mesh3d": [
           {
            "colorbar": {
             "outlinewidth": 0,
             "ticks": ""
            },
            "type": "mesh3d"
           }
          ],
          "parcoords": [
           {
            "line": {
             "colorbar": {
              "outlinewidth": 0,
              "ticks": ""
             }
            },
            "type": "parcoords"
           }
          ],
          "pie": [
           {
            "automargin": true,
            "type": "pie"
           }
          ],
          "scatter": [
           {
            "fillpattern": {
             "fillmode": "overlay",
             "size": 10,
             "solidity": 0.2
            },
            "type": "scatter"
           }
          ],
          "scatter3d": [
           {
            "line": {
             "colorbar": {
              "outlinewidth": 0,
              "ticks": ""
             }
            },
            "marker": {
             "colorbar": {
              "outlinewidth": 0,
              "ticks": ""
             }
            },
            "type": "scatter3d"
           }
          ],
          "scattercarpet": [
           {
            "marker": {
             "colorbar": {
              "outlinewidth": 0,
              "ticks": ""
             }
            },
            "type": "scattercarpet"
           }
          ],
          "scattergeo": [
           {
            "marker": {
             "colorbar": {
              "outlinewidth": 0,
              "ticks": ""
             }
            },
            "type": "scattergeo"
           }
          ],
          "scattergl": [
           {
            "marker": {
             "colorbar": {
              "outlinewidth": 0,
              "ticks": ""
             }
            },
            "type": "scattergl"
           }
          ],
          "scattermapbox": [
           {
            "marker": {
             "colorbar": {
              "outlinewidth": 0,
              "ticks": ""
             }
            },
            "type": "scattermapbox"
           }
          ],
          "scatterpolar": [
           {
            "marker": {
             "colorbar": {
              "outlinewidth": 0,
              "ticks": ""
             }
            },
            "type": "scatterpolar"
           }
          ],
          "scatterpolargl": [
           {
            "marker": {
             "colorbar": {
              "outlinewidth": 0,
              "ticks": ""
             }
            },
            "type": "scatterpolargl"
           }
          ],
          "scatterternary": [
           {
            "marker": {
             "colorbar": {
              "outlinewidth": 0,
              "ticks": ""
             }
            },
            "type": "scatterternary"
           }
          ],
          "surface": [
           {
            "colorbar": {
             "outlinewidth": 0,
             "ticks": ""
            },
            "colorscale": [
             [
              0,
              "#0d0887"
             ],
             [
              0.1111111111111111,
              "#46039f"
             ],
             [
              0.2222222222222222,
              "#7201a8"
             ],
             [
              0.3333333333333333,
              "#9c179e"
             ],
             [
              0.4444444444444444,
              "#bd3786"
             ],
             [
              0.5555555555555556,
              "#d8576b"
             ],
             [
              0.6666666666666666,
              "#ed7953"
             ],
             [
              0.7777777777777778,
              "#fb9f3a"
             ],
             [
              0.8888888888888888,
              "#fdca26"
             ],
             [
              1,
              "#f0f921"
             ]
            ],
            "type": "surface"
           }
          ],
          "table": [
           {
            "cells": {
             "fill": {
              "color": "#EBF0F8"
             },
             "line": {
              "color": "white"
             }
            },
            "header": {
             "fill": {
              "color": "#C8D4E3"
             },
             "line": {
              "color": "white"
             }
            },
            "type": "table"
           }
          ]
         },
         "layout": {
          "annotationdefaults": {
           "arrowcolor": "#2a3f5f",
           "arrowhead": 0,
           "arrowwidth": 1
          },
          "autotypenumbers": "strict",
          "coloraxis": {
           "colorbar": {
            "outlinewidth": 0,
            "ticks": ""
           }
          },
          "colorscale": {
           "diverging": [
            [
             0,
             "#8e0152"
            ],
            [
             0.1,
             "#c51b7d"
            ],
            [
             0.2,
             "#de77ae"
            ],
            [
             0.3,
             "#f1b6da"
            ],
            [
             0.4,
             "#fde0ef"
            ],
            [
             0.5,
             "#f7f7f7"
            ],
            [
             0.6,
             "#e6f5d0"
            ],
            [
             0.7,
             "#b8e186"
            ],
            [
             0.8,
             "#7fbc41"
            ],
            [
             0.9,
             "#4d9221"
            ],
            [
             1,
             "#276419"
            ]
           ],
           "sequential": [
            [
             0,
             "#0d0887"
            ],
            [
             0.1111111111111111,
             "#46039f"
            ],
            [
             0.2222222222222222,
             "#7201a8"
            ],
            [
             0.3333333333333333,
             "#9c179e"
            ],
            [
             0.4444444444444444,
             "#bd3786"
            ],
            [
             0.5555555555555556,
             "#d8576b"
            ],
            [
             0.6666666666666666,
             "#ed7953"
            ],
            [
             0.7777777777777778,
             "#fb9f3a"
            ],
            [
             0.8888888888888888,
             "#fdca26"
            ],
            [
             1,
             "#f0f921"
            ]
           ],
           "sequentialminus": [
            [
             0,
             "#0d0887"
            ],
            [
             0.1111111111111111,
             "#46039f"
            ],
            [
             0.2222222222222222,
             "#7201a8"
            ],
            [
             0.3333333333333333,
             "#9c179e"
            ],
            [
             0.4444444444444444,
             "#bd3786"
            ],
            [
             0.5555555555555556,
             "#d8576b"
            ],
            [
             0.6666666666666666,
             "#ed7953"
            ],
            [
             0.7777777777777778,
             "#fb9f3a"
            ],
            [
             0.8888888888888888,
             "#fdca26"
            ],
            [
             1,
             "#f0f921"
            ]
           ]
          },
          "colorway": [
           "#636efa",
           "#EF553B",
           "#00cc96",
           "#ab63fa",
           "#FFA15A",
           "#19d3f3",
           "#FF6692",
           "#B6E880",
           "#FF97FF",
           "#FECB52"
          ],
          "font": {
           "color": "#2a3f5f"
          },
          "geo": {
           "bgcolor": "white",
           "lakecolor": "white",
           "landcolor": "#E5ECF6",
           "showlakes": true,
           "showland": true,
           "subunitcolor": "white"
          },
          "hoverlabel": {
           "align": "left"
          },
          "hovermode": "closest",
          "mapbox": {
           "style": "light"
          },
          "paper_bgcolor": "white",
          "plot_bgcolor": "#E5ECF6",
          "polar": {
           "angularaxis": {
            "gridcolor": "white",
            "linecolor": "white",
            "ticks": ""
           },
           "bgcolor": "#E5ECF6",
           "radialaxis": {
            "gridcolor": "white",
            "linecolor": "white",
            "ticks": ""
           }
          },
          "scene": {
           "xaxis": {
            "backgroundcolor": "#E5ECF6",
            "gridcolor": "white",
            "gridwidth": 2,
            "linecolor": "white",
            "showbackground": true,
            "ticks": "",
            "zerolinecolor": "white"
           },
           "yaxis": {
            "backgroundcolor": "#E5ECF6",
            "gridcolor": "white",
            "gridwidth": 2,
            "linecolor": "white",
            "showbackground": true,
            "ticks": "",
            "zerolinecolor": "white"
           },
           "zaxis": {
            "backgroundcolor": "#E5ECF6",
            "gridcolor": "white",
            "gridwidth": 2,
            "linecolor": "white",
            "showbackground": true,
            "ticks": "",
            "zerolinecolor": "white"
           }
          },
          "shapedefaults": {
           "line": {
            "color": "#2a3f5f"
           }
          },
          "ternary": {
           "aaxis": {
            "gridcolor": "white",
            "linecolor": "white",
            "ticks": ""
           },
           "baxis": {
            "gridcolor": "white",
            "linecolor": "white",
            "ticks": ""
           },
           "bgcolor": "#E5ECF6",
           "caxis": {
            "gridcolor": "white",
            "linecolor": "white",
            "ticks": ""
           }
          },
          "title": {
           "x": 0.05
          },
          "xaxis": {
           "automargin": true,
           "gridcolor": "white",
           "linecolor": "white",
           "ticks": "",
           "title": {
            "standoff": 15
           },
           "zerolinecolor": "white",
           "zerolinewidth": 2
          },
          "yaxis": {
           "automargin": true,
           "gridcolor": "white",
           "linecolor": "white",
           "ticks": "",
           "title": {
            "standoff": 15
           },
           "zerolinecolor": "white",
           "zerolinewidth": 2
          }
         }
        },
        "title": {
         "text": "Flujo de gasto - diff (2019 - 2024)"
        }
       }
      }
     },
     "metadata": {},
     "output_type": "display_data"
    }
   ],
   "source": [
    "data = pd.read_csv('data192425_hom.csv')\n",
    "\n",
    "def rename_ord(row):\n",
    "    entidad = row['Entidad']\n",
    "    cuenta = row['Cuenta']\n",
    "    subcuenta = row['Subcuenta']\n",
    "    objeto = row['Objeto']\n",
    "    ordinal = row['Ordinal']\n",
    "    l_objetos = ['PRESTACIONES SOCIALES RELACIONADAS CON EL EMPLEO', \n",
    "                 'PRESTACIONES SOCIALES ASUMIDAS POR EL GOBIERNO',\n",
    "                 'PRESTACIONES DE ASISTENCIA SOCIAL']\n",
    "    l_ordinal = ['ASEGURAMIENTO, RECLAMACIONES Y SERVICIOS INTEGRALES EN SALUD, (LEY 100 DE 1993 y DECRETO 780 DE 2016)',\n",
    "                 'APOYO A PROGRAMAS DE DESARROLLO DE LA SALUD LEY 100 DE 1993']\n",
    "    if entidad == 'Ministerio de hacienda y crédito público' and ordinal == 'OTRAS TRANSFERENCIAS - DISTRIBUCIÓN PREVIO CONCEPTO DGPPN':\n",
    "        return 'FEPC'\n",
    "    elif objeto in l_objetos:\n",
    "        return \"PRESTACIONES SOCIALES\"\n",
    "    elif objeto == 'SISTEMA GENERAL DE PARTICIPACIONES':\n",
    "        return 'SISTEMA GENERAL DE PARTICIPACIONES'\n",
    "    elif ordinal in l_ordinal:\n",
    "        return 'Salud'\n",
    "    else:\n",
    "        return 'Otros (objeto)'\n",
    "\n",
    "def rename_cuenta(row):\n",
    "    cuenta = row['Cuenta']\n",
    "\n",
    "    if cuenta == 'TRANSFERENCIAS CORRIENTES':\n",
    "        return 'TRANSFERENCIAS CORRIENTES'\n",
    "    elif cuenta == 'GASTOS DE PERSONAL':\n",
    "        return 'GASTOS DE PERSONAL'\n",
    "    else:\n",
    "        return 'Otros (cuenta)' \n",
    "data['Cuenta_alt'] = data.apply(rename_cuenta, axis=1)\n",
    "data['Ord_alt'] = data.apply(rename_ord, axis=1)\n",
    "\n",
    "piv = (data#.query(\"Objeto == 'SISTEMA GENERAL DE PARTICIPACIONES'\").\n",
    " .pivot_table(index=['Cuenta_alt', 'Ord_alt'],\n",
    "                  columns='Año',\n",
    "                  values='TOTAL_const',\n",
    "                  aggfunc='sum')\n",
    "                  .assign(diff_19_24=lambda x: x[2024] - x[2019],\n",
    "                          diff_19_25=lambda x: x[2025] - x[2019],\n",
    "                          diff_24_25=lambda x: x[2025] - x[2024])\n",
    "                    .sort_values(by='diff_19_24', ascending=False).reset_index())\n",
    "\n",
    "piv = piv[['Cuenta_alt', 'Ord_alt', 'diff_19_24']]\n",
    "piv.to_excel('datos_william.xlsx', index=False)\n",
    "cop = piv.copy()\n",
    "\n",
    "labels = piv['Cuenta_alt'].unique().tolist() + piv['Ord_alt'].unique().tolist()\n",
    "dic_labels = dict(enumerate(labels))\n",
    "rev_labels = {}\n",
    "\n",
    "for key, value in dic_labels.items():\n",
    "    rev_labels[value] = key\n",
    "\n",
    "\n",
    "piv['source'] = piv['Cuenta_alt'].map(rev_labels)\n",
    "piv['target'] = piv['Ord_alt'].map(rev_labels)\n",
    "piv['values'] = (piv['diff_19_24'] / 1_000_000_000).round(2)\n",
    "\n",
    "piv = piv.drop(columns=['Cuenta_alt', 'Ord_alt', 'diff_19_24'])\n",
    "\n",
    "fig = go.Figure(data=[go.Sankey(\n",
    "    node = dict(\n",
    "      pad = 15,\n",
    "      thickness = 20,\n",
    "      line = dict(color = \"black\", width = 0.5),\n",
    "      label = list(rev_labels.keys()),\n",
    "      color = [\"#2F399B\"] * 3 +  [\"#F7B261\"] * 7\n",
    "    ),\n",
    "    link = dict(\n",
    "      source = piv['source'], # indices correspond to labels, eg A1, A2, A1, B1, ...\n",
    "      target = piv['target'],\n",
    "      value = piv['values'],\n",
    "      color = \"#D9D9ED\"\n",
    "  ))])\n",
    "\n",
    "fig.update_layout(title_text=\"Flujo de gasto - diff (2019 - 2024)\", font_size=10)\n",
    "fig.show()"
   ]
  },
  {
   "cell_type": "code",
   "execution_count": 108,
   "metadata": {},
   "outputs": [
    {
     "data": {
      "text/html": [
       "<div>\n",
       "<style scoped>\n",
       "    .dataframe tbody tr th:only-of-type {\n",
       "        vertical-align: middle;\n",
       "    }\n",
       "\n",
       "    .dataframe tbody tr th {\n",
       "        vertical-align: top;\n",
       "    }\n",
       "\n",
       "    .dataframe thead th {\n",
       "        text-align: right;\n",
       "    }\n",
       "</style>\n",
       "<table border=\"1\" class=\"dataframe\">\n",
       "  <thead>\n",
       "    <tr style=\"text-align: right;\">\n",
       "      <th></th>\n",
       "      <th>Cuenta_alt</th>\n",
       "      <th>diff_19_24</th>\n",
       "    </tr>\n",
       "  </thead>\n",
       "  <tbody>\n",
       "    <tr>\n",
       "      <th>0</th>\n",
       "      <td>GASTOS DE PERSONAL</td>\n",
       "      <td>1.270304e+13</td>\n",
       "    </tr>\n",
       "    <tr>\n",
       "      <th>1</th>\n",
       "      <td>Otros (cuenta)</td>\n",
       "      <td>3.609186e+12</td>\n",
       "    </tr>\n",
       "    <tr>\n",
       "      <th>2</th>\n",
       "      <td>TRANSFERENCIAS CORRIENTES</td>\n",
       "      <td>7.648788e+13</td>\n",
       "    </tr>\n",
       "  </tbody>\n",
       "</table>\n",
       "</div>"
      ],
      "text/plain": [
       "                  Cuenta_alt    diff_19_24\n",
       "0         GASTOS DE PERSONAL  1.270304e+13\n",
       "1             Otros (cuenta)  3.609186e+12\n",
       "2  TRANSFERENCIAS CORRIENTES  7.648788e+13"
      ]
     },
     "execution_count": 108,
     "metadata": {},
     "output_type": "execute_result"
    }
   ],
   "source": [
    "pie_chart = cop.groupby('Cuenta_alt')['diff_19_24'].sum().reset_index()"
   ]
  },
  {
   "cell_type": "code",
   "execution_count": 111,
   "metadata": {},
   "outputs": [
    {
     "data": {
      "application/vnd.plotly.v1+json": {
       "config": {
        "plotlyServerURL": "https://plot.ly"
       },
       "data": [
        {
         "domain": {
          "x": [
           0,
           1
          ],
          "y": [
           0,
           1
          ]
         },
         "hovertemplate": "Cuenta_alt=%{label}<br>diff_19_24=%{value}<extra></extra>",
         "labels": [
          "GASTOS DE PERSONAL",
          "Otros (cuenta)",
          "TRANSFERENCIAS CORRIENTES"
         ],
         "legendgroup": "",
         "name": "",
         "showlegend": true,
         "type": "pie",
         "values": [
          12703036721210.523,
          3609185516345.867,
          76487883137930.88
         ]
        }
       ],
       "layout": {
        "legend": {
         "tracegroupgap": 0
        },
        "margin": {
         "t": 60
        },
        "piecolorway": [
         "#2F399B",
         "#F7B261",
         "#0FB7B3"
        ],
        "template": {
         "data": {
          "bar": [
           {
            "error_x": {
             "color": "#2a3f5f"
            },
            "error_y": {
             "color": "#2a3f5f"
            },
            "marker": {
             "line": {
              "color": "#E5ECF6",
              "width": 0.5
             },
             "pattern": {
              "fillmode": "overlay",
              "size": 10,
              "solidity": 0.2
             }
            },
            "type": "bar"
           }
          ],
          "barpolar": [
           {
            "marker": {
             "line": {
              "color": "#E5ECF6",
              "width": 0.5
             },
             "pattern": {
              "fillmode": "overlay",
              "size": 10,
              "solidity": 0.2
             }
            },
            "type": "barpolar"
           }
          ],
          "carpet": [
           {
            "aaxis": {
             "endlinecolor": "#2a3f5f",
             "gridcolor": "white",
             "linecolor": "white",
             "minorgridcolor": "white",
             "startlinecolor": "#2a3f5f"
            },
            "baxis": {
             "endlinecolor": "#2a3f5f",
             "gridcolor": "white",
             "linecolor": "white",
             "minorgridcolor": "white",
             "startlinecolor": "#2a3f5f"
            },
            "type": "carpet"
           }
          ],
          "choropleth": [
           {
            "colorbar": {
             "outlinewidth": 0,
             "ticks": ""
            },
            "type": "choropleth"
           }
          ],
          "contour": [
           {
            "colorbar": {
             "outlinewidth": 0,
             "ticks": ""
            },
            "colorscale": [
             [
              0,
              "#0d0887"
             ],
             [
              0.1111111111111111,
              "#46039f"
             ],
             [
              0.2222222222222222,
              "#7201a8"
             ],
             [
              0.3333333333333333,
              "#9c179e"
             ],
             [
              0.4444444444444444,
              "#bd3786"
             ],
             [
              0.5555555555555556,
              "#d8576b"
             ],
             [
              0.6666666666666666,
              "#ed7953"
             ],
             [
              0.7777777777777778,
              "#fb9f3a"
             ],
             [
              0.8888888888888888,
              "#fdca26"
             ],
             [
              1,
              "#f0f921"
             ]
            ],
            "type": "contour"
           }
          ],
          "contourcarpet": [
           {
            "colorbar": {
             "outlinewidth": 0,
             "ticks": ""
            },
            "type": "contourcarpet"
           }
          ],
          "heatmap": [
           {
            "colorbar": {
             "outlinewidth": 0,
             "ticks": ""
            },
            "colorscale": [
             [
              0,
              "#0d0887"
             ],
             [
              0.1111111111111111,
              "#46039f"
             ],
             [
              0.2222222222222222,
              "#7201a8"
             ],
             [
              0.3333333333333333,
              "#9c179e"
             ],
             [
              0.4444444444444444,
              "#bd3786"
             ],
             [
              0.5555555555555556,
              "#d8576b"
             ],
             [
              0.6666666666666666,
              "#ed7953"
             ],
             [
              0.7777777777777778,
              "#fb9f3a"
             ],
             [
              0.8888888888888888,
              "#fdca26"
             ],
             [
              1,
              "#f0f921"
             ]
            ],
            "type": "heatmap"
           }
          ],
          "heatmapgl": [
           {
            "colorbar": {
             "outlinewidth": 0,
             "ticks": ""
            },
            "colorscale": [
             [
              0,
              "#0d0887"
             ],
             [
              0.1111111111111111,
              "#46039f"
             ],
             [
              0.2222222222222222,
              "#7201a8"
             ],
             [
              0.3333333333333333,
              "#9c179e"
             ],
             [
              0.4444444444444444,
              "#bd3786"
             ],
             [
              0.5555555555555556,
              "#d8576b"
             ],
             [
              0.6666666666666666,
              "#ed7953"
             ],
             [
              0.7777777777777778,
              "#fb9f3a"
             ],
             [
              0.8888888888888888,
              "#fdca26"
             ],
             [
              1,
              "#f0f921"
             ]
            ],
            "type": "heatmapgl"
           }
          ],
          "histogram": [
           {
            "marker": {
             "pattern": {
              "fillmode": "overlay",
              "size": 10,
              "solidity": 0.2
             }
            },
            "type": "histogram"
           }
          ],
          "histogram2d": [
           {
            "colorbar": {
             "outlinewidth": 0,
             "ticks": ""
            },
            "colorscale": [
             [
              0,
              "#0d0887"
             ],
             [
              0.1111111111111111,
              "#46039f"
             ],
             [
              0.2222222222222222,
              "#7201a8"
             ],
             [
              0.3333333333333333,
              "#9c179e"
             ],
             [
              0.4444444444444444,
              "#bd3786"
             ],
             [
              0.5555555555555556,
              "#d8576b"
             ],
             [
              0.6666666666666666,
              "#ed7953"
             ],
             [
              0.7777777777777778,
              "#fb9f3a"
             ],
             [
              0.8888888888888888,
              "#fdca26"
             ],
             [
              1,
              "#f0f921"
             ]
            ],
            "type": "histogram2d"
           }
          ],
          "histogram2dcontour": [
           {
            "colorbar": {
             "outlinewidth": 0,
             "ticks": ""
            },
            "colorscale": [
             [
              0,
              "#0d0887"
             ],
             [
              0.1111111111111111,
              "#46039f"
             ],
             [
              0.2222222222222222,
              "#7201a8"
             ],
             [
              0.3333333333333333,
              "#9c179e"
             ],
             [
              0.4444444444444444,
              "#bd3786"
             ],
             [
              0.5555555555555556,
              "#d8576b"
             ],
             [
              0.6666666666666666,
              "#ed7953"
             ],
             [
              0.7777777777777778,
              "#fb9f3a"
             ],
             [
              0.8888888888888888,
              "#fdca26"
             ],
             [
              1,
              "#f0f921"
             ]
            ],
            "type": "histogram2dcontour"
           }
          ],
          "mesh3d": [
           {
            "colorbar": {
             "outlinewidth": 0,
             "ticks": ""
            },
            "type": "mesh3d"
           }
          ],
          "parcoords": [
           {
            "line": {
             "colorbar": {
              "outlinewidth": 0,
              "ticks": ""
             }
            },
            "type": "parcoords"
           }
          ],
          "pie": [
           {
            "automargin": true,
            "type": "pie"
           }
          ],
          "scatter": [
           {
            "fillpattern": {
             "fillmode": "overlay",
             "size": 10,
             "solidity": 0.2
            },
            "type": "scatter"
           }
          ],
          "scatter3d": [
           {
            "line": {
             "colorbar": {
              "outlinewidth": 0,
              "ticks": ""
             }
            },
            "marker": {
             "colorbar": {
              "outlinewidth": 0,
              "ticks": ""
             }
            },
            "type": "scatter3d"
           }
          ],
          "scattercarpet": [
           {
            "marker": {
             "colorbar": {
              "outlinewidth": 0,
              "ticks": ""
             }
            },
            "type": "scattercarpet"
           }
          ],
          "scattergeo": [
           {
            "marker": {
             "colorbar": {
              "outlinewidth": 0,
              "ticks": ""
             }
            },
            "type": "scattergeo"
           }
          ],
          "scattergl": [
           {
            "marker": {
             "colorbar": {
              "outlinewidth": 0,
              "ticks": ""
             }
            },
            "type": "scattergl"
           }
          ],
          "scattermapbox": [
           {
            "marker": {
             "colorbar": {
              "outlinewidth": 0,
              "ticks": ""
             }
            },
            "type": "scattermapbox"
           }
          ],
          "scatterpolar": [
           {
            "marker": {
             "colorbar": {
              "outlinewidth": 0,
              "ticks": ""
             }
            },
            "type": "scatterpolar"
           }
          ],
          "scatterpolargl": [
           {
            "marker": {
             "colorbar": {
              "outlinewidth": 0,
              "ticks": ""
             }
            },
            "type": "scatterpolargl"
           }
          ],
          "scatterternary": [
           {
            "marker": {
             "colorbar": {
              "outlinewidth": 0,
              "ticks": ""
             }
            },
            "type": "scatterternary"
           }
          ],
          "surface": [
           {
            "colorbar": {
             "outlinewidth": 0,
             "ticks": ""
            },
            "colorscale": [
             [
              0,
              "#0d0887"
             ],
             [
              0.1111111111111111,
              "#46039f"
             ],
             [
              0.2222222222222222,
              "#7201a8"
             ],
             [
              0.3333333333333333,
              "#9c179e"
             ],
             [
              0.4444444444444444,
              "#bd3786"
             ],
             [
              0.5555555555555556,
              "#d8576b"
             ],
             [
              0.6666666666666666,
              "#ed7953"
             ],
             [
              0.7777777777777778,
              "#fb9f3a"
             ],
             [
              0.8888888888888888,
              "#fdca26"
             ],
             [
              1,
              "#f0f921"
             ]
            ],
            "type": "surface"
           }
          ],
          "table": [
           {
            "cells": {
             "fill": {
              "color": "#EBF0F8"
             },
             "line": {
              "color": "white"
             }
            },
            "header": {
             "fill": {
              "color": "#C8D4E3"
             },
             "line": {
              "color": "white"
             }
            },
            "type": "table"
           }
          ]
         },
         "layout": {
          "annotationdefaults": {
           "arrowcolor": "#2a3f5f",
           "arrowhead": 0,
           "arrowwidth": 1
          },
          "autotypenumbers": "strict",
          "coloraxis": {
           "colorbar": {
            "outlinewidth": 0,
            "ticks": ""
           }
          },
          "colorscale": {
           "diverging": [
            [
             0,
             "#8e0152"
            ],
            [
             0.1,
             "#c51b7d"
            ],
            [
             0.2,
             "#de77ae"
            ],
            [
             0.3,
             "#f1b6da"
            ],
            [
             0.4,
             "#fde0ef"
            ],
            [
             0.5,
             "#f7f7f7"
            ],
            [
             0.6,
             "#e6f5d0"
            ],
            [
             0.7,
             "#b8e186"
            ],
            [
             0.8,
             "#7fbc41"
            ],
            [
             0.9,
             "#4d9221"
            ],
            [
             1,
             "#276419"
            ]
           ],
           "sequential": [
            [
             0,
             "#0d0887"
            ],
            [
             0.1111111111111111,
             "#46039f"
            ],
            [
             0.2222222222222222,
             "#7201a8"
            ],
            [
             0.3333333333333333,
             "#9c179e"
            ],
            [
             0.4444444444444444,
             "#bd3786"
            ],
            [
             0.5555555555555556,
             "#d8576b"
            ],
            [
             0.6666666666666666,
             "#ed7953"
            ],
            [
             0.7777777777777778,
             "#fb9f3a"
            ],
            [
             0.8888888888888888,
             "#fdca26"
            ],
            [
             1,
             "#f0f921"
            ]
           ],
           "sequentialminus": [
            [
             0,
             "#0d0887"
            ],
            [
             0.1111111111111111,
             "#46039f"
            ],
            [
             0.2222222222222222,
             "#7201a8"
            ],
            [
             0.3333333333333333,
             "#9c179e"
            ],
            [
             0.4444444444444444,
             "#bd3786"
            ],
            [
             0.5555555555555556,
             "#d8576b"
            ],
            [
             0.6666666666666666,
             "#ed7953"
            ],
            [
             0.7777777777777778,
             "#fb9f3a"
            ],
            [
             0.8888888888888888,
             "#fdca26"
            ],
            [
             1,
             "#f0f921"
            ]
           ]
          },
          "colorway": [
           "#636efa",
           "#EF553B",
           "#00cc96",
           "#ab63fa",
           "#FFA15A",
           "#19d3f3",
           "#FF6692",
           "#B6E880",
           "#FF97FF",
           "#FECB52"
          ],
          "font": {
           "color": "#2a3f5f"
          },
          "geo": {
           "bgcolor": "white",
           "lakecolor": "white",
           "landcolor": "#E5ECF6",
           "showlakes": true,
           "showland": true,
           "subunitcolor": "white"
          },
          "hoverlabel": {
           "align": "left"
          },
          "hovermode": "closest",
          "mapbox": {
           "style": "light"
          },
          "paper_bgcolor": "white",
          "plot_bgcolor": "#E5ECF6",
          "polar": {
           "angularaxis": {
            "gridcolor": "white",
            "linecolor": "white",
            "ticks": ""
           },
           "bgcolor": "#E5ECF6",
           "radialaxis": {
            "gridcolor": "white",
            "linecolor": "white",
            "ticks": ""
           }
          },
          "scene": {
           "xaxis": {
            "backgroundcolor": "#E5ECF6",
            "gridcolor": "white",
            "gridwidth": 2,
            "linecolor": "white",
            "showbackground": true,
            "ticks": "",
            "zerolinecolor": "white"
           },
           "yaxis": {
            "backgroundcolor": "#E5ECF6",
            "gridcolor": "white",
            "gridwidth": 2,
            "linecolor": "white",
            "showbackground": true,
            "ticks": "",
            "zerolinecolor": "white"
           },
           "zaxis": {
            "backgroundcolor": "#E5ECF6",
            "gridcolor": "white",
            "gridwidth": 2,
            "linecolor": "white",
            "showbackground": true,
            "ticks": "",
            "zerolinecolor": "white"
           }
          },
          "shapedefaults": {
           "line": {
            "color": "#2a3f5f"
           }
          },
          "ternary": {
           "aaxis": {
            "gridcolor": "white",
            "linecolor": "white",
            "ticks": ""
           },
           "baxis": {
            "gridcolor": "white",
            "linecolor": "white",
            "ticks": ""
           },
           "bgcolor": "#E5ECF6",
           "caxis": {
            "gridcolor": "white",
            "linecolor": "white",
            "ticks": ""
           }
          },
          "title": {
           "x": 0.05
          },
          "xaxis": {
           "automargin": true,
           "gridcolor": "white",
           "linecolor": "white",
           "ticks": "",
           "title": {
            "standoff": 15
           },
           "zerolinecolor": "white",
           "zerolinewidth": 2
          },
          "yaxis": {
           "automargin": true,
           "gridcolor": "white",
           "linecolor": "white",
           "ticks": "",
           "title": {
            "standoff": 15
           },
           "zerolinecolor": "white",
           "zerolinewidth": 2
          }
         }
        }
       }
      }
     },
     "metadata": {},
     "output_type": "display_data"
    }
   ],
   "source": [
    "import plotly.express as px\n",
    "pie_chart = cop.groupby('Cuenta_alt')['diff_19_24'].sum().reset_index()\n",
    "fig = px.pie(pie_chart, values='diff_19_24', names='Cuenta_alt', color_discrete_sequence=[\"#2F399B\", \"#F7B261\", \"#0FB7B3\"])\n",
    "fig.show()"
   ]
  },
  {
   "cell_type": "markdown",
   "metadata": {},
   "source": []
  },
  {
   "cell_type": "code",
   "execution_count": 37,
   "metadata": {},
   "outputs": [
    {
     "name": "stdout",
     "output_type": "stream",
     "text": [
      "ATENCIÓN DE DESASTRES Y EMERGENCIAS EN EL TERRITORIO NACIONAL -FONDO NACIONAL DE GESTIÓN DEL RIESGO DE DESASTRES\n",
      "FONDO NACIONAL DE PENSIONES DE LAS ENTIDADES TERRITORIALES LEY 549 DE 1999 (DE PENSIONES)\n",
      "FONDO NACIONAL DE EMERGENCIAS\n",
      "FONDO NACIONAL DE PRESTACIONES SOCIALES DEL MAGISTERIO (DE PENSIONES)\n",
      "FONDO NACIONAL DE PRESTACIONES SOCIALES DEL MAGISTERIO (NO DE PENSIONES)\n",
      "FONDO DE PENSIONES PÚBLICAS DEL NIVEL NACIONAL - PENSIONES FONDO NACIONAL DE CAMINOS VECINALES (DE PENSIONES)\n",
      "FONDO NACIONAL DE SEGURIDAD Y CONVIVENCIA CIUDADANA -FONSECON\n",
      "FONDO NACIONAL PARA LA LUCHA CONTRA LA TRATA DE PERSONAS. LEY 985 DE 2005 Y DECRETO 4319 DE 2006\n",
      "FONDO NACIONAL DEL PASIVO PENSIONAL Y PRESTACIONAL DE LA ELECTRIFICADORA DEL CARIBE S.A. E.S.P. – FONECA (DE PENSIONES)\n",
      "FONDO NACIONAL DE EMERGENCIAS SANITARIAS Y FITOSANITARIAS DEL INSTITUTO COLOMBIANO AGROPECUARIO – ICA. \n",
      "RECURSOS PARA TRANSFERIR AL FONDO NACIONAL DE PRESTACIONES SOCIALES DEL MAGISTERIO, PREVIA REVISIÓN FALTANTE DE CESANTÍAS\n"
     ]
    }
   ],
   "source": [
    "for i in data[data['Ordinal'].str.contains('FONDO NACIONAL').fillna(False)]['Ordinal'].unique():\n",
    "    print(i)\n"
   ]
  },
  {
   "cell_type": "code",
   "execution_count": 38,
   "metadata": {},
   "outputs": [
    {
     "data": {
      "text/html": [
       "<div>\n",
       "<style scoped>\n",
       "    .dataframe tbody tr th:only-of-type {\n",
       "        vertical-align: middle;\n",
       "    }\n",
       "\n",
       "    .dataframe tbody tr th {\n",
       "        vertical-align: top;\n",
       "    }\n",
       "\n",
       "    .dataframe thead th {\n",
       "        text-align: right;\n",
       "    }\n",
       "</style>\n",
       "<table border=\"1\" class=\"dataframe\">\n",
       "  <thead>\n",
       "    <tr style=\"text-align: right;\">\n",
       "      <th></th>\n",
       "      <th>Cuenta</th>\n",
       "      <th>Subcuenta</th>\n",
       "      <th>Objeto</th>\n",
       "      <th>Ordinal</th>\n",
       "      <th>TOTAL</th>\n",
       "      <th>Código de entidad</th>\n",
       "      <th>Tipo de gasto</th>\n",
       "      <th>Entidad</th>\n",
       "      <th>Código de sector</th>\n",
       "      <th>Sector</th>\n",
       "      <th>Unidad</th>\n",
       "      <th>Código de unidad</th>\n",
       "      <th>Cuenta_n</th>\n",
       "      <th>Subcuenta_n</th>\n",
       "      <th>Objeto_n</th>\n",
       "      <th>Ordinal_n</th>\n",
       "      <th>Año</th>\n",
       "      <th>Indice_base_2025</th>\n",
       "      <th>TOTAL_const</th>\n",
       "    </tr>\n",
       "  </thead>\n",
       "  <tbody>\n",
       "    <tr>\n",
       "      <th>340</th>\n",
       "      <td>TRANSFERENCIAS CORRIENTES</td>\n",
       "      <td>PRESTACIONES PARA CUBRIR RIESGOS SOCIALES</td>\n",
       "      <td>PRESTACIONES SOCIALES ASUMIDAS POR EL GOBIERNO</td>\n",
       "      <td>FONDO NACIONAL DE PENSIONES DE LAS ENTIDADES T...</td>\n",
       "      <td>1.576380e+11</td>\n",
       "      <td>1301</td>\n",
       "      <td>Funcionamiento</td>\n",
       "      <td>Ministerio de hacienda y crédito público</td>\n",
       "      <td>13</td>\n",
       "      <td>Hacienda</td>\n",
       "      <td>NaN</td>\n",
       "      <td>NaN</td>\n",
       "      <td>3</td>\n",
       "      <td>4.0</td>\n",
       "      <td>3.0</td>\n",
       "      <td>1.0</td>\n",
       "      <td>2019</td>\n",
       "      <td>68.501033</td>\n",
       "      <td>2.301250e+11</td>\n",
       "    </tr>\n",
       "    <tr>\n",
       "      <th>2486</th>\n",
       "      <td>TRANSFERENCIAS CORRIENTES</td>\n",
       "      <td>PRESTACIONES PARA CUBRIR RIESGOS SOCIALES</td>\n",
       "      <td>PRESTACIONES SOCIALES ASUMIDAS POR EL GOBIERNO</td>\n",
       "      <td>FONDO NACIONAL DE PENSIONES DE LAS ENTIDADES T...</td>\n",
       "      <td>1.234510e+11</td>\n",
       "      <td>1301</td>\n",
       "      <td>Funcionamiento</td>\n",
       "      <td>Ministerio de hacienda y crédito público</td>\n",
       "      <td>13</td>\n",
       "      <td>Hacienda</td>\n",
       "      <td>NaN</td>\n",
       "      <td>NaN</td>\n",
       "      <td>3</td>\n",
       "      <td>4.0</td>\n",
       "      <td>3.0</td>\n",
       "      <td>1.0</td>\n",
       "      <td>2024</td>\n",
       "      <td>94.339623</td>\n",
       "      <td>1.308581e+11</td>\n",
       "    </tr>\n",
       "    <tr>\n",
       "      <th>4629</th>\n",
       "      <td>TRANSFERENCIAS CORRIENTES</td>\n",
       "      <td>PRESTACIONES PARA CUBRIR RIESGOS SOCIALES</td>\n",
       "      <td>PRESTACIONES SOCIALES ASUMIDAS POR EL GOBIERNO</td>\n",
       "      <td>FONDO NACIONAL DE PENSIONES DE LAS ENTIDADES T...</td>\n",
       "      <td>2.172738e+11</td>\n",
       "      <td>1301</td>\n",
       "      <td>Funcionamiento</td>\n",
       "      <td>Ministerio de hacienda y crédito público</td>\n",
       "      <td>13</td>\n",
       "      <td>Hacienda</td>\n",
       "      <td>MINISTERIO DE HACIENDA Y CRÉDITO PÚBLICO - GES...</td>\n",
       "      <td>130101.0</td>\n",
       "      <td>3</td>\n",
       "      <td>4.0</td>\n",
       "      <td>3.0</td>\n",
       "      <td>1.0</td>\n",
       "      <td>2025</td>\n",
       "      <td>100.000000</td>\n",
       "      <td>2.172738e+11</td>\n",
       "    </tr>\n",
       "  </tbody>\n",
       "</table>\n",
       "</div>"
      ],
      "text/plain": [
       "                         Cuenta                                  Subcuenta  \\\n",
       "340   TRANSFERENCIAS CORRIENTES  PRESTACIONES PARA CUBRIR RIESGOS SOCIALES   \n",
       "2486  TRANSFERENCIAS CORRIENTES  PRESTACIONES PARA CUBRIR RIESGOS SOCIALES   \n",
       "4629  TRANSFERENCIAS CORRIENTES  PRESTACIONES PARA CUBRIR RIESGOS SOCIALES   \n",
       "\n",
       "                                              Objeto  \\\n",
       "340   PRESTACIONES SOCIALES ASUMIDAS POR EL GOBIERNO   \n",
       "2486  PRESTACIONES SOCIALES ASUMIDAS POR EL GOBIERNO   \n",
       "4629  PRESTACIONES SOCIALES ASUMIDAS POR EL GOBIERNO   \n",
       "\n",
       "                                                Ordinal         TOTAL  \\\n",
       "340   FONDO NACIONAL DE PENSIONES DE LAS ENTIDADES T...  1.576380e+11   \n",
       "2486  FONDO NACIONAL DE PENSIONES DE LAS ENTIDADES T...  1.234510e+11   \n",
       "4629  FONDO NACIONAL DE PENSIONES DE LAS ENTIDADES T...  2.172738e+11   \n",
       "\n",
       "      Código de entidad   Tipo de gasto  \\\n",
       "340                1301  Funcionamiento   \n",
       "2486               1301  Funcionamiento   \n",
       "4629               1301  Funcionamiento   \n",
       "\n",
       "                                       Entidad  Código de sector    Sector  \\\n",
       "340   Ministerio de hacienda y crédito público                13  Hacienda   \n",
       "2486  Ministerio de hacienda y crédito público                13  Hacienda   \n",
       "4629  Ministerio de hacienda y crédito público                13  Hacienda   \n",
       "\n",
       "                                                 Unidad  Código de unidad  \\\n",
       "340                                                 NaN               NaN   \n",
       "2486                                                NaN               NaN   \n",
       "4629  MINISTERIO DE HACIENDA Y CRÉDITO PÚBLICO - GES...          130101.0   \n",
       "\n",
       "      Cuenta_n  Subcuenta_n  Objeto_n  Ordinal_n   Año  Indice_base_2025  \\\n",
       "340          3          4.0       3.0        1.0  2019         68.501033   \n",
       "2486         3          4.0       3.0        1.0  2024         94.339623   \n",
       "4629         3          4.0       3.0        1.0  2025        100.000000   \n",
       "\n",
       "       TOTAL_const  \n",
       "340   2.301250e+11  \n",
       "2486  1.308581e+11  \n",
       "4629  2.172738e+11  "
      ]
     },
     "execution_count": 38,
     "metadata": {},
     "output_type": "execute_result"
    }
   ],
   "source": [
    "data[data['Ordinal'] == 'FONDO NACIONAL DE PENSIONES DE LAS ENTIDADES TERRITORIALES LEY 549 DE 1999 (DE PENSIONES)']"
   ]
  },
  {
   "cell_type": "code",
   "execution_count": 25,
   "metadata": {},
   "outputs": [
    {
     "data": {
      "text/plain": [
       "array([ 68.501033  ,  94.33962264, 100.        ])"
      ]
     },
     "execution_count": 25,
     "metadata": {},
     "output_type": "execute_result"
    }
   ],
   "source": [
    "data['Indice_base_2025'].unique()"
   ]
  },
  {
   "cell_type": "code",
   "execution_count": 26,
   "metadata": {},
   "outputs": [
    {
     "data": {
      "text/plain": [
       "41285565738996.7"
      ]
     },
     "execution_count": 26,
     "metadata": {},
     "output_type": "execute_result"
    }
   ],
   "source": [
    "6.026999e+13 * (68.501033 / 100)"
   ]
  },
  {
   "cell_type": "code",
   "execution_count": null,
   "metadata": {},
   "outputs": [],
   "source": []
  }
 ],
 "metadata": {
  "kernelspec": {
   "display_name": "Python 3",
   "language": "python",
   "name": "python3"
  },
  "language_info": {
   "codemirror_mode": {
    "name": "ipython",
    "version": 3
   },
   "file_extension": ".py",
   "mimetype": "text/x-python",
   "name": "python",
   "nbconvert_exporter": "python",
   "pygments_lexer": "ipython3",
   "version": "3.11.0"
  }
 },
 "nbformat": 4,
 "nbformat_minor": 2
}
