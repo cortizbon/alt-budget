{
 "cells": [
  {
   "cell_type": "code",
   "execution_count": 23,
   "metadata": {},
   "outputs": [],
   "source": [
    "import pandas as pd"
   ]
  },
  {
   "cell_type": "code",
   "execution_count": 24,
   "metadata": {},
   "outputs": [],
   "source": [
    "df = pd.read_csv('desag_1924.csv')"
   ]
  },
  {
   "cell_type": "code",
   "execution_count": 26,
   "metadata": {},
   "outputs": [],
   "source": [
    "ipc = pd.read_csv('ipc_basic.csv')"
   ]
  },
  {
   "cell_type": "code",
   "execution_count": 29,
   "metadata": {},
   "outputs": [],
   "source": [
    "df = df.merge(ipc[['Año', 'Indice_base_2025']], on='Año', how='inner')"
   ]
  },
  {
   "cell_type": "code",
   "execution_count": 32,
   "metadata": {},
   "outputs": [],
   "source": [
    "df['apropiaciones_constantes_2025'] = (df['TOTAL'] / df['Indice_base_2025']) * 100"
   ]
  },
  {
   "cell_type": "code",
   "execution_count": 33,
   "metadata": {},
   "outputs": [],
   "source": [
    "df.to_csv('desag_1924.csv', index=False)"
   ]
  },
  {
   "cell_type": "code",
   "execution_count": 51,
   "metadata": {},
   "outputs": [],
   "source": [
    "import json\n",
    "with open('dic_sec_ents.json') as f:\n",
    "    dic_sec_ents = json.load(f)\n",
    "with open('dic_sector.json') as f:\n",
    "    dic_sector = json.load(f)\n",
    "\n",
    "with open('dic_entities.json') as f:\n",
    "    dic_entities = json.load(f)"
   ]
  },
  {
   "cell_type": "code",
   "execution_count": 43,
   "metadata": {},
   "outputs": [],
   "source": [
    "df['Sector'] = df['Código de entidad'].astype(str).map(dic_sec_ents).astype(str).map(dic_sector)\n",
    "df['Código de sector'] = df['Código de entidad'].astype(str).map(dic_sec_ents)"
   ]
  },
  {
   "cell_type": "code",
   "execution_count": 53,
   "metadata": {},
   "outputs": [],
   "source": [
    "rev_ents = {}\n",
    "del dic_entities[\"1719\"]\n",
    "for key, value in dic_entities.items():\n",
    "    rev_ents[value] = key\n"
   ]
  },
  {
   "cell_type": "code",
   "execution_count": 54,
   "metadata": {},
   "outputs": [
    {
     "data": {
      "text/plain": [
       "1183    1719\n",
       "1184    1719\n",
       "1185    1719\n",
       "1186    1719\n",
       "1187    1719\n",
       "1188    1719\n",
       "1189    1719\n",
       "1190    1719\n",
       "1191    1719\n",
       "1192    1719\n",
       "1193    1719\n",
       "1194    1719\n",
       "1195    1719\n",
       "1196    1719\n",
       "3462    1719\n",
       "3463    1719\n",
       "3464    1719\n",
       "3465    1719\n",
       "3466    1719\n",
       "3467    1719\n",
       "3468    1719\n",
       "3469    1719\n",
       "3470    1719\n",
       "3471    1719\n",
       "3472    1719\n",
       "3473    1719\n",
       "3474    1719\n",
       "3475    1719\n",
       "3476    1719\n",
       "3477    1719\n",
       "3478    1719\n",
       "3479    1719\n",
       "3480    1719\n",
       "Name: Entidad, dtype: object"
      ]
     },
     "execution_count": 54,
     "metadata": {},
     "output_type": "execute_result"
    }
   ],
   "source": [
    "df[df['Entidad'].str.contains('renovación')]['Entidad'].astype(str).map(rev_ents)"
   ]
  },
  {
   "cell_type": "code",
   "execution_count": null,
   "metadata": {},
   "outputs": [],
   "source": []
  }
 ],
 "metadata": {
  "kernelspec": {
   "display_name": "Python 3",
   "language": "python",
   "name": "python3"
  },
  "language_info": {
   "codemirror_mode": {
    "name": "ipython",
    "version": 3
   },
   "file_extension": ".py",
   "mimetype": "text/x-python",
   "name": "python",
   "nbconvert_exporter": "python",
   "pygments_lexer": "ipython3",
   "version": "3.11.0"
  }
 },
 "nbformat": 4,
 "nbformat_minor": 2
}
